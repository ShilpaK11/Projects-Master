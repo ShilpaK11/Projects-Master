{
 "cells": [
  {
   "cell_type": "markdown",
   "metadata": {},
   "source": [
    "An Insurance company that has provided Health Insurance to its customers now they need your help in building a model to predict whether the policyholders (customers) from past year will also be interested in Vehicle Insurance provided by the company.\n",
    "Goal is to build a model to predict whether a customer would be interested in Vehicle Insurance.\n",
    "The evaluation metric for this hackathon is ROC_AUC score."
   ]
  },
  {
   "cell_type": "code",
   "execution_count": 1,
   "metadata": {},
   "outputs": [],
   "source": [
    "# Import necessary Libraries\n",
    "import os\n",
    "import numpy as np\n",
    "import pandas as pd\n",
    "\n",
    "import matplotlib.pyplot as plt\n",
    "plt.rcParams['figure.figsize'] = (12, 10)\n",
    "% matplotlib inline\n",
    "\n",
    "import seaborn as sns\n",
    "sns.set_style('whitegrid')\n",
    "\n",
    "import warnings\n",
    "warnings.filterwarnings('ignore')"
   ]
  },
  {
   "cell_type": "markdown",
   "metadata": {},
   "source": [
    "Load Data"
   ]
  },
  {
   "cell_type": "code",
   "execution_count": 2,
   "metadata": {},
   "outputs": [],
   "source": [
    "df_train = pd.read_csv('train.csv', header=0)\n",
    "df_test = pd.read_csv('test.csv', header=0)\n",
    "df_submission = pd.read_csv('sample_submission_iA3afxn.csv', header=0)"
   ]
  },
  {
   "cell_type": "code",
   "execution_count": 3,
   "metadata": {},
   "outputs": [
    {
     "name": "stdout",
     "output_type": "stream",
     "text": [
      "(381109, 12) (127037, 11)\n"
     ]
    }
   ],
   "source": [
    "print(df_train.shape, df_test.shape)"
   ]
  },
  {
   "cell_type": "code",
   "execution_count": 4,
   "metadata": {},
   "outputs": [
    {
     "data": {
      "text/html": [
       "<div>\n",
       "<style scoped>\n",
       "    .dataframe tbody tr th:only-of-type {\n",
       "        vertical-align: middle;\n",
       "    }\n",
       "\n",
       "    .dataframe tbody tr th {\n",
       "        vertical-align: top;\n",
       "    }\n",
       "\n",
       "    .dataframe thead th {\n",
       "        text-align: right;\n",
       "    }\n",
       "</style>\n",
       "<table border=\"1\" class=\"dataframe\">\n",
       "  <thead>\n",
       "    <tr style=\"text-align: right;\">\n",
       "      <th></th>\n",
       "      <th>id</th>\n",
       "      <th>Gender</th>\n",
       "      <th>Age</th>\n",
       "      <th>Driving_License</th>\n",
       "      <th>Region_Code</th>\n",
       "      <th>Previously_Insured</th>\n",
       "      <th>Vehicle_Age</th>\n",
       "      <th>Vehicle_Damage</th>\n",
       "      <th>Annual_Premium</th>\n",
       "      <th>Policy_Sales_Channel</th>\n",
       "      <th>Vintage</th>\n",
       "      <th>Response</th>\n",
       "    </tr>\n",
       "  </thead>\n",
       "  <tbody>\n",
       "    <tr>\n",
       "      <th>0</th>\n",
       "      <td>1</td>\n",
       "      <td>Male</td>\n",
       "      <td>44</td>\n",
       "      <td>1</td>\n",
       "      <td>28.0</td>\n",
       "      <td>0</td>\n",
       "      <td>&gt; 2 Years</td>\n",
       "      <td>Yes</td>\n",
       "      <td>40454.0</td>\n",
       "      <td>26.0</td>\n",
       "      <td>217</td>\n",
       "      <td>1</td>\n",
       "    </tr>\n",
       "    <tr>\n",
       "      <th>1</th>\n",
       "      <td>2</td>\n",
       "      <td>Male</td>\n",
       "      <td>76</td>\n",
       "      <td>1</td>\n",
       "      <td>3.0</td>\n",
       "      <td>0</td>\n",
       "      <td>1-2 Year</td>\n",
       "      <td>No</td>\n",
       "      <td>33536.0</td>\n",
       "      <td>26.0</td>\n",
       "      <td>183</td>\n",
       "      <td>0</td>\n",
       "    </tr>\n",
       "    <tr>\n",
       "      <th>2</th>\n",
       "      <td>3</td>\n",
       "      <td>Male</td>\n",
       "      <td>47</td>\n",
       "      <td>1</td>\n",
       "      <td>28.0</td>\n",
       "      <td>0</td>\n",
       "      <td>&gt; 2 Years</td>\n",
       "      <td>Yes</td>\n",
       "      <td>38294.0</td>\n",
       "      <td>26.0</td>\n",
       "      <td>27</td>\n",
       "      <td>1</td>\n",
       "    </tr>\n",
       "    <tr>\n",
       "      <th>3</th>\n",
       "      <td>4</td>\n",
       "      <td>Male</td>\n",
       "      <td>21</td>\n",
       "      <td>1</td>\n",
       "      <td>11.0</td>\n",
       "      <td>1</td>\n",
       "      <td>&lt; 1 Year</td>\n",
       "      <td>No</td>\n",
       "      <td>28619.0</td>\n",
       "      <td>152.0</td>\n",
       "      <td>203</td>\n",
       "      <td>0</td>\n",
       "    </tr>\n",
       "    <tr>\n",
       "      <th>4</th>\n",
       "      <td>5</td>\n",
       "      <td>Female</td>\n",
       "      <td>29</td>\n",
       "      <td>1</td>\n",
       "      <td>41.0</td>\n",
       "      <td>1</td>\n",
       "      <td>&lt; 1 Year</td>\n",
       "      <td>No</td>\n",
       "      <td>27496.0</td>\n",
       "      <td>152.0</td>\n",
       "      <td>39</td>\n",
       "      <td>0</td>\n",
       "    </tr>\n",
       "  </tbody>\n",
       "</table>\n",
       "</div>"
      ],
      "text/plain": [
       "   id  Gender  Age  Driving_License  Region_Code  Previously_Insured  \\\n",
       "0   1    Male   44                1         28.0                   0   \n",
       "1   2    Male   76                1          3.0                   0   \n",
       "2   3    Male   47                1         28.0                   0   \n",
       "3   4    Male   21                1         11.0                   1   \n",
       "4   5  Female   29                1         41.0                   1   \n",
       "\n",
       "  Vehicle_Age Vehicle_Damage  Annual_Premium  Policy_Sales_Channel  Vintage  \\\n",
       "0   > 2 Years            Yes         40454.0                  26.0      217   \n",
       "1    1-2 Year             No         33536.0                  26.0      183   \n",
       "2   > 2 Years            Yes         38294.0                  26.0       27   \n",
       "3    < 1 Year             No         28619.0                 152.0      203   \n",
       "4    < 1 Year             No         27496.0                 152.0       39   \n",
       "\n",
       "   Response  \n",
       "0         1  \n",
       "1         0  \n",
       "2         1  \n",
       "3         0  \n",
       "4         0  "
      ]
     },
     "execution_count": 4,
     "metadata": {},
     "output_type": "execute_result"
    }
   ],
   "source": [
    "df_train.head()"
   ]
  },
  {
   "cell_type": "code",
   "execution_count": 5,
   "metadata": {},
   "outputs": [
    {
     "data": {
      "text/html": [
       "<div>\n",
       "<style scoped>\n",
       "    .dataframe tbody tr th:only-of-type {\n",
       "        vertical-align: middle;\n",
       "    }\n",
       "\n",
       "    .dataframe tbody tr th {\n",
       "        vertical-align: top;\n",
       "    }\n",
       "\n",
       "    .dataframe thead th {\n",
       "        text-align: right;\n",
       "    }\n",
       "</style>\n",
       "<table border=\"1\" class=\"dataframe\">\n",
       "  <thead>\n",
       "    <tr style=\"text-align: right;\">\n",
       "      <th></th>\n",
       "      <th>id</th>\n",
       "      <th>Gender</th>\n",
       "      <th>Age</th>\n",
       "      <th>Driving_License</th>\n",
       "      <th>Region_Code</th>\n",
       "      <th>Previously_Insured</th>\n",
       "      <th>Vehicle_Age</th>\n",
       "      <th>Vehicle_Damage</th>\n",
       "      <th>Annual_Premium</th>\n",
       "      <th>Policy_Sales_Channel</th>\n",
       "      <th>Vintage</th>\n",
       "    </tr>\n",
       "  </thead>\n",
       "  <tbody>\n",
       "    <tr>\n",
       "      <th>0</th>\n",
       "      <td>381110</td>\n",
       "      <td>Male</td>\n",
       "      <td>25</td>\n",
       "      <td>1</td>\n",
       "      <td>11.0</td>\n",
       "      <td>1</td>\n",
       "      <td>&lt; 1 Year</td>\n",
       "      <td>No</td>\n",
       "      <td>35786.0</td>\n",
       "      <td>152.0</td>\n",
       "      <td>53</td>\n",
       "    </tr>\n",
       "    <tr>\n",
       "      <th>1</th>\n",
       "      <td>381111</td>\n",
       "      <td>Male</td>\n",
       "      <td>40</td>\n",
       "      <td>1</td>\n",
       "      <td>28.0</td>\n",
       "      <td>0</td>\n",
       "      <td>1-2 Year</td>\n",
       "      <td>Yes</td>\n",
       "      <td>33762.0</td>\n",
       "      <td>7.0</td>\n",
       "      <td>111</td>\n",
       "    </tr>\n",
       "    <tr>\n",
       "      <th>2</th>\n",
       "      <td>381112</td>\n",
       "      <td>Male</td>\n",
       "      <td>47</td>\n",
       "      <td>1</td>\n",
       "      <td>28.0</td>\n",
       "      <td>0</td>\n",
       "      <td>1-2 Year</td>\n",
       "      <td>Yes</td>\n",
       "      <td>40050.0</td>\n",
       "      <td>124.0</td>\n",
       "      <td>199</td>\n",
       "    </tr>\n",
       "    <tr>\n",
       "      <th>3</th>\n",
       "      <td>381113</td>\n",
       "      <td>Male</td>\n",
       "      <td>24</td>\n",
       "      <td>1</td>\n",
       "      <td>27.0</td>\n",
       "      <td>1</td>\n",
       "      <td>&lt; 1 Year</td>\n",
       "      <td>Yes</td>\n",
       "      <td>37356.0</td>\n",
       "      <td>152.0</td>\n",
       "      <td>187</td>\n",
       "    </tr>\n",
       "    <tr>\n",
       "      <th>4</th>\n",
       "      <td>381114</td>\n",
       "      <td>Male</td>\n",
       "      <td>27</td>\n",
       "      <td>1</td>\n",
       "      <td>28.0</td>\n",
       "      <td>1</td>\n",
       "      <td>&lt; 1 Year</td>\n",
       "      <td>No</td>\n",
       "      <td>59097.0</td>\n",
       "      <td>152.0</td>\n",
       "      <td>297</td>\n",
       "    </tr>\n",
       "  </tbody>\n",
       "</table>\n",
       "</div>"
      ],
      "text/plain": [
       "       id Gender  Age  Driving_License  Region_Code  Previously_Insured  \\\n",
       "0  381110   Male   25                1         11.0                   1   \n",
       "1  381111   Male   40                1         28.0                   0   \n",
       "2  381112   Male   47                1         28.0                   0   \n",
       "3  381113   Male   24                1         27.0                   1   \n",
       "4  381114   Male   27                1         28.0                   1   \n",
       "\n",
       "  Vehicle_Age Vehicle_Damage  Annual_Premium  Policy_Sales_Channel  Vintage  \n",
       "0    < 1 Year             No         35786.0                 152.0       53  \n",
       "1    1-2 Year            Yes         33762.0                   7.0      111  \n",
       "2    1-2 Year            Yes         40050.0                 124.0      199  \n",
       "3    < 1 Year            Yes         37356.0                 152.0      187  \n",
       "4    < 1 Year             No         59097.0                 152.0      297  "
      ]
     },
     "execution_count": 5,
     "metadata": {},
     "output_type": "execute_result"
    }
   ],
   "source": [
    "df_test.head()"
   ]
  },
  {
   "cell_type": "markdown",
   "metadata": {},
   "source": [
    "Quick Exploratory Data Analysis"
   ]
  },
  {
   "cell_type": "code",
   "execution_count": 6,
   "metadata": {},
   "outputs": [
    {
     "data": {
      "text/plain": [
       "id                      0\n",
       "Gender                  0\n",
       "Age                     0\n",
       "Driving_License         0\n",
       "Region_Code             0\n",
       "Previously_Insured      0\n",
       "Vehicle_Age             0\n",
       "Vehicle_Damage          0\n",
       "Annual_Premium          0\n",
       "Policy_Sales_Channel    0\n",
       "Vintage                 0\n",
       "Response                0\n",
       "dtype: int64"
      ]
     },
     "execution_count": 6,
     "metadata": {},
     "output_type": "execute_result"
    }
   ],
   "source": [
    "# Nulls Check\n",
    "df_train.isnull().sum()\n",
    "\n",
    "# No missing values"
   ]
  },
  {
   "cell_type": "code",
   "execution_count": 7,
   "metadata": {},
   "outputs": [
    {
     "name": "stdout",
     "output_type": "stream",
     "text": [
      "0    334399\n",
      "1     46710\n",
      "Name: Response, dtype: int64\n",
      "0.877436638861848 0.12256336113815208\n"
     ]
    },
    {
     "data": {
      "image/png": "[encoded data removed]",
      "text/plain": [
       "<Figure size 432x288 with 1 Axes>"
      ]
     },
     "metadata": {},
     "output_type": "display_data"
    }
   ],
   "source": [
    "# Target Variable Analysis\n",
    "sns.countplot(data=df_train, x='Response')\n",
    "print(df_train['Response'].value_counts())\n",
    "print(df_train[df_train['Response']==0].shape[0]/df_train.shape[0], df_train[df_train['Response']==1].shape[0]/df_train.shape[0])\n",
    "\n",
    "# Data is highly imbalanced in the ratio of 22:3\n",
    "# Will need to perform over sampling to get better class level and ROC-AUC scores"
   ]
  },
  {
   "cell_type": "code",
   "execution_count": 8,
   "metadata": {},
   "outputs": [],
   "source": [
    "#df_train['train_flag'] = 1\n",
    "#df_test['train_flag'] = 0\n",
    "\n",
    "#df_data = pd.concat((df_train, df_test))\n",
    "#print(df_data.shape)"
   ]
  },
  {
   "cell_type": "code",
   "execution_count": 9,
   "metadata": {},
   "outputs": [
    {
     "data": {
      "text/plain": [
       "<matplotlib.axes._subplots.AxesSubplot at 0x1ac10713048>"
      ]
     },
     "execution_count": 9,
     "metadata": {},
     "output_type": "execute_result"
    },
    {
     "data": {
      "image/png": "[encoded data removed]",
      "text/plain": [
       "<Figure size 2160x1440 with 6 Axes>"
      ]
     },
     "metadata": {},
     "output_type": "display_data"
    }
   ],
   "source": [
    "plt.figure(1, figsize=(30,20))\n",
    "plt.subplot(321)\n",
    "sns.countplot(x='Response', hue='Gender', data=df_train) # Response by Gender\n",
    "plt.subplot(322)\n",
    "sns.countplot(x='Response', hue='Previously_Insured', data=df_train) # Response by Previously Insured\n",
    "plt.subplot(323)\n",
    "sns.countplot(x='Response', hue='Driving_License', data=df_train) # Response by Driving license\n",
    "\n",
    "plt.subplot(324)\n",
    "sns.countplot(x='Response', hue='Vehicle_Age', data=df_train) # Response by Vehicles age\n",
    "plt.subplot(325)\n",
    "sns.countplot(x='Response', hue='Vehicle_Damage', data=df_train) # Response by Vehicles Damage\n",
    "plt.subplot(326)\n",
    "sns.countplot(x='Age', data=df_train) # Distribution by ages"
   ]
  },
  {
   "cell_type": "markdown",
   "metadata": {},
   "source": [
    "Data Preparation"
   ]
  },
  {
   "cell_type": "code",
   "execution_count": 10,
   "metadata": {},
   "outputs": [],
   "source": [
    "# Binary Categorical Variables\n",
    "df_train['Gender'] = df_train['Gender'].replace({'Female':1, 'Male':0})\n",
    "df_test['Gender'] = df_test['Gender'].replace({'Female':1, 'Male':0})\n",
    "\n",
    "df_train['Vehicle_Damage'] = df_train['Vehicle_Damage'].replace({'Yes':1, 'No':0})\n",
    "df_test['Vehicle_Damage'] = df_test['Vehicle_Damage'].replace({'Yes':1, 'No':0})"
   ]
  },
  {
   "cell_type": "code",
   "execution_count": 11,
   "metadata": {},
   "outputs": [],
   "source": [
    "# Ordinal Categorical Variables\n",
    "order = {'< 1 Year':0, '1-2 Year':1, '> 2 Years':2}\n",
    "df_train['Vehicle_Age'] = df_train['Vehicle_Age'].map(order)\n",
    "df_test['Vehicle_Age'] = df_test['Vehicle_Age'].map(order)"
   ]
  },
  {
   "cell_type": "code",
   "execution_count": 12,
   "metadata": {},
   "outputs": [],
   "source": [
    "#from sklearn.preprocessing import LabelEncoder\n",
    "#le = LabelEncoder()\n",
    "#df_data['Segmentation'] = le.fit_transform(df_data['Segmentation'])\n",
    "#list(le.classes_)"
   ]
  },
  {
   "cell_type": "code",
   "execution_count": 13,
   "metadata": {},
   "outputs": [],
   "source": [
    "# Handling Missing Values\n",
    "#train.fillna(-999, inplace=True)\n",
    "#test.fillna(-999, inplace=True)"
   ]
  },
  {
   "cell_type": "code",
   "execution_count": 14,
   "metadata": {
    "scrolled": true
   },
   "outputs": [
    {
     "data": {
      "text/html": [
       "<div>\n",
       "<style scoped>\n",
       "    .dataframe tbody tr th:only-of-type {\n",
       "        vertical-align: middle;\n",
       "    }\n",
       "\n",
       "    .dataframe tbody tr th {\n",
       "        vertical-align: top;\n",
       "    }\n",
       "\n",
       "    .dataframe thead th {\n",
       "        text-align: right;\n",
       "    }\n",
       "</style>\n",
       "<table border=\"1\" class=\"dataframe\">\n",
       "  <thead>\n",
       "    <tr style=\"text-align: right;\">\n",
       "      <th></th>\n",
       "      <th>id</th>\n",
       "      <th>Gender</th>\n",
       "      <th>Age</th>\n",
       "      <th>Driving_License</th>\n",
       "      <th>Region_Code</th>\n",
       "      <th>Previously_Insured</th>\n",
       "      <th>Vehicle_Age</th>\n",
       "      <th>Vehicle_Damage</th>\n",
       "      <th>Annual_Premium</th>\n",
       "      <th>Policy_Sales_Channel</th>\n",
       "      <th>Vintage</th>\n",
       "      <th>Response</th>\n",
       "    </tr>\n",
       "  </thead>\n",
       "  <tbody>\n",
       "    <tr>\n",
       "      <th>id</th>\n",
       "      <td>1.000000</td>\n",
       "      <td>-0.000999</td>\n",
       "      <td>0.001561</td>\n",
       "      <td>-0.000564</td>\n",
       "      <td>-0.000572</td>\n",
       "      <td>0.002457</td>\n",
       "      <td>0.000878</td>\n",
       "      <td>-0.001507</td>\n",
       "      <td>0.003027</td>\n",
       "      <td>-0.002837</td>\n",
       "      <td>-0.000630</td>\n",
       "      <td>-0.001368</td>\n",
       "    </tr>\n",
       "    <tr>\n",
       "      <th>Gender</th>\n",
       "      <td>-0.000999</td>\n",
       "      <td>1.000000</td>\n",
       "      <td>-0.145545</td>\n",
       "      <td>0.018374</td>\n",
       "      <td>-0.000604</td>\n",
       "      <td>0.081932</td>\n",
       "      <td>-0.160427</td>\n",
       "      <td>-0.091606</td>\n",
       "      <td>-0.003673</td>\n",
       "      <td>0.111159</td>\n",
       "      <td>0.002517</td>\n",
       "      <td>-0.052440</td>\n",
       "    </tr>\n",
       "    <tr>\n",
       "      <th>Age</th>\n",
       "      <td>0.001561</td>\n",
       "      <td>-0.145545</td>\n",
       "      <td>1.000000</td>\n",
       "      <td>-0.079782</td>\n",
       "      <td>0.042574</td>\n",
       "      <td>-0.254682</td>\n",
       "      <td>0.765790</td>\n",
       "      <td>0.267534</td>\n",
       "      <td>0.067507</td>\n",
       "      <td>-0.577826</td>\n",
       "      <td>-0.001264</td>\n",
       "      <td>0.111147</td>\n",
       "    </tr>\n",
       "    <tr>\n",
       "      <th>Driving_License</th>\n",
       "      <td>-0.000564</td>\n",
       "      <td>0.018374</td>\n",
       "      <td>-0.079782</td>\n",
       "      <td>1.000000</td>\n",
       "      <td>-0.001081</td>\n",
       "      <td>0.014969</td>\n",
       "      <td>-0.037306</td>\n",
       "      <td>-0.016622</td>\n",
       "      <td>-0.011906</td>\n",
       "      <td>0.043731</td>\n",
       "      <td>-0.000848</td>\n",
       "      <td>0.010155</td>\n",
       "    </tr>\n",
       "    <tr>\n",
       "      <th>Region_Code</th>\n",
       "      <td>-0.000572</td>\n",
       "      <td>-0.000604</td>\n",
       "      <td>0.042574</td>\n",
       "      <td>-0.001081</td>\n",
       "      <td>1.000000</td>\n",
       "      <td>-0.024659</td>\n",
       "      <td>0.043778</td>\n",
       "      <td>0.028235</td>\n",
       "      <td>-0.010588</td>\n",
       "      <td>-0.042420</td>\n",
       "      <td>-0.002750</td>\n",
       "      <td>0.010570</td>\n",
       "    </tr>\n",
       "    <tr>\n",
       "      <th>Previously_Insured</th>\n",
       "      <td>0.002457</td>\n",
       "      <td>0.081932</td>\n",
       "      <td>-0.254682</td>\n",
       "      <td>0.014969</td>\n",
       "      <td>-0.024659</td>\n",
       "      <td>1.000000</td>\n",
       "      <td>-0.380873</td>\n",
       "      <td>-0.824143</td>\n",
       "      <td>0.004269</td>\n",
       "      <td>0.219381</td>\n",
       "      <td>0.002537</td>\n",
       "      <td>-0.341170</td>\n",
       "    </tr>\n",
       "    <tr>\n",
       "      <th>Vehicle_Age</th>\n",
       "      <td>0.000878</td>\n",
       "      <td>-0.160427</td>\n",
       "      <td>0.765790</td>\n",
       "      <td>-0.037306</td>\n",
       "      <td>0.043778</td>\n",
       "      <td>-0.380873</td>\n",
       "      <td>1.000000</td>\n",
       "      <td>0.396873</td>\n",
       "      <td>0.041580</td>\n",
       "      <td>-0.550663</td>\n",
       "      <td>-0.001892</td>\n",
       "      <td>0.221874</td>\n",
       "    </tr>\n",
       "    <tr>\n",
       "      <th>Vehicle_Damage</th>\n",
       "      <td>-0.001507</td>\n",
       "      <td>-0.091606</td>\n",
       "      <td>0.267534</td>\n",
       "      <td>-0.016622</td>\n",
       "      <td>0.028235</td>\n",
       "      <td>-0.824143</td>\n",
       "      <td>0.396873</td>\n",
       "      <td>1.000000</td>\n",
       "      <td>0.009349</td>\n",
       "      <td>-0.224377</td>\n",
       "      <td>-0.002064</td>\n",
       "      <td>0.354400</td>\n",
       "    </tr>\n",
       "    <tr>\n",
       "      <th>Annual_Premium</th>\n",
       "      <td>0.003027</td>\n",
       "      <td>-0.003673</td>\n",
       "      <td>0.067507</td>\n",
       "      <td>-0.011906</td>\n",
       "      <td>-0.010588</td>\n",
       "      <td>0.004269</td>\n",
       "      <td>0.041580</td>\n",
       "      <td>0.009349</td>\n",
       "      <td>1.000000</td>\n",
       "      <td>-0.113247</td>\n",
       "      <td>-0.000608</td>\n",
       "      <td>0.022575</td>\n",
       "    </tr>\n",
       "    <tr>\n",
       "      <th>Policy_Sales_Channel</th>\n",
       "      <td>-0.002837</td>\n",
       "      <td>0.111159</td>\n",
       "      <td>-0.577826</td>\n",
       "      <td>0.043731</td>\n",
       "      <td>-0.042420</td>\n",
       "      <td>0.219381</td>\n",
       "      <td>-0.550663</td>\n",
       "      <td>-0.224377</td>\n",
       "      <td>-0.113247</td>\n",
       "      <td>1.000000</td>\n",
       "      <td>0.000002</td>\n",
       "      <td>-0.139042</td>\n",
       "    </tr>\n",
       "    <tr>\n",
       "      <th>Vintage</th>\n",
       "      <td>-0.000630</td>\n",
       "      <td>0.002517</td>\n",
       "      <td>-0.001264</td>\n",
       "      <td>-0.000848</td>\n",
       "      <td>-0.002750</td>\n",
       "      <td>0.002537</td>\n",
       "      <td>-0.001892</td>\n",
       "      <td>-0.002064</td>\n",
       "      <td>-0.000608</td>\n",
       "      <td>0.000002</td>\n",
       "      <td>1.000000</td>\n",
       "      <td>-0.001050</td>\n",
       "    </tr>\n",
       "    <tr>\n",
       "      <th>Response</th>\n",
       "      <td>-0.001368</td>\n",
       "      <td>-0.052440</td>\n",
       "      <td>0.111147</td>\n",
       "      <td>0.010155</td>\n",
       "      <td>0.010570</td>\n",
       "      <td>-0.341170</td>\n",
       "      <td>0.221874</td>\n",
       "      <td>0.354400</td>\n",
       "      <td>0.022575</td>\n",
       "      <td>-0.139042</td>\n",
       "      <td>-0.001050</td>\n",
       "      <td>1.000000</td>\n",
       "    </tr>\n",
       "  </tbody>\n",
       "</table>\n",
       "</div>"
      ],
      "text/plain": [
       "                            id    Gender       Age  Driving_License  \\\n",
       "id                    1.000000 -0.000999  0.001561        -0.000564   \n",
       "Gender               -0.000999  1.000000 -0.145545         0.018374   \n",
       "Age                   0.001561 -0.145545  1.000000        -0.079782   \n",
       "Driving_License      -0.000564  0.018374 -0.079782         1.000000   \n",
       "Region_Code          -0.000572 -0.000604  0.042574        -0.001081   \n",
       "Previously_Insured    0.002457  0.081932 -0.254682         0.014969   \n",
       "Vehicle_Age           0.000878 -0.160427  0.765790        -0.037306   \n",
       "Vehicle_Damage       -0.001507 -0.091606  0.267534        -0.016622   \n",
       "Annual_Premium        0.003027 -0.003673  0.067507        -0.011906   \n",
       "Policy_Sales_Channel -0.002837  0.111159 -0.577826         0.043731   \n",
       "Vintage              -0.000630  0.002517 -0.001264        -0.000848   \n",
       "Response             -0.001368 -0.052440  0.111147         0.010155   \n",
       "\n",
       "                      Region_Code  Previously_Insured  Vehicle_Age  \\\n",
       "id                      -0.000572            0.002457     0.000878   \n",
       "Gender                  -0.000604            0.081932    -0.160427   \n",
       "Age                      0.042574           -0.254682     0.765790   \n",
       "Driving_License         -0.001081            0.014969    -0.037306   \n",
       "Region_Code              1.000000           -0.024659     0.043778   \n",
       "Previously_Insured      -0.024659            1.000000    -0.380873   \n",
       "Vehicle_Age              0.043778           -0.380873     1.000000   \n",
       "Vehicle_Damage           0.028235           -0.824143     0.396873   \n",
       "Annual_Premium          -0.010588            0.004269     0.041580   \n",
       "Policy_Sales_Channel    -0.042420            0.219381    -0.550663   \n",
       "Vintage                 -0.002750            0.002537    -0.001892   \n",
       "Response                 0.010570           -0.341170     0.221874   \n",
       "\n",
       "                      Vehicle_Damage  Annual_Premium  Policy_Sales_Channel  \\\n",
       "id                         -0.001507        0.003027             -0.002837   \n",
       "Gender                     -0.091606       -0.003673              0.111159   \n",
       "Age                         0.267534        0.067507             -0.577826   \n",
       "Driving_License            -0.016622       -0.011906              0.043731   \n",
       "Region_Code                 0.028235       -0.010588             -0.042420   \n",
       "Previously_Insured         -0.824143        0.004269              0.219381   \n",
       "Vehicle_Age                 0.396873        0.041580             -0.550663   \n",
       "Vehicle_Damage              1.000000        0.009349             -0.224377   \n",
       "Annual_Premium              0.009349        1.000000             -0.113247   \n",
       "Policy_Sales_Channel       -0.224377       -0.113247              1.000000   \n",
       "Vintage                    -0.002064       -0.000608              0.000002   \n",
       "Response                    0.354400        0.022575             -0.139042   \n",
       "\n",
       "                       Vintage  Response  \n",
       "id                   -0.000630 -0.001368  \n",
       "Gender                0.002517 -0.052440  \n",
       "Age                  -0.001264  0.111147  \n",
       "Driving_License      -0.000848  0.010155  \n",
       "Region_Code          -0.002750  0.010570  \n",
       "Previously_Insured    0.002537 -0.341170  \n",
       "Vehicle_Age          -0.001892  0.221874  \n",
       "Vehicle_Damage       -0.002064  0.354400  \n",
       "Annual_Premium       -0.000608  0.022575  \n",
       "Policy_Sales_Channel  0.000002 -0.139042  \n",
       "Vintage               1.000000 -0.001050  \n",
       "Response             -0.001050  1.000000  "
      ]
     },
     "execution_count": 14,
     "metadata": {},
     "output_type": "execute_result"
    }
   ],
   "source": [
    "# Now that all the features are in numeric form, check the correlation between features\n",
    "df_train.corr()\n",
    "\n",
    "# Vehicle_Damage, Previously_Insured and then Vehicle_Age features have the greatest corr to the target variable"
   ]
  },
  {
   "cell_type": "code",
   "execution_count": 15,
   "metadata": {},
   "outputs": [
    {
     "data": {
      "text/plain": [
       "<matplotlib.axes._subplots.AxesSubplot at 0x1ac1074d4a8>"
      ]
     },
     "execution_count": 15,
     "metadata": {},
     "output_type": "execute_result"
    },
    {
     "data": {
      "image/png": "[encoded data removed]",
      "text/plain": [
       "<Figure size 1080x720 with 2 Axes>"
      ]
     },
     "metadata": {},
     "output_type": "display_data"
    }
   ],
   "source": [
    "# Heatmap to see correlation between each pair of columns\n",
    "plt.subplots(figsize = (15,10))\n",
    "sns.heatmap(df_train.corr(), annot=True)"
   ]
  },
  {
   "cell_type": "code",
   "execution_count": 16,
   "metadata": {},
   "outputs": [
    {
     "data": {
      "text/plain": [
       "<matplotlib.axes._subplots.AxesSubplot at 0x1ac1214a8d0>"
      ]
     },
     "execution_count": 16,
     "metadata": {},
     "output_type": "execute_result"
    },
    {
     "data": {
      "image/png": "[encoded data removed]",
      "text/plain": [
       "<Figure size 1080x288 with 2 Axes>"
      ]
     },
     "metadata": {},
     "output_type": "display_data"
    }
   ],
   "source": [
    "plt.figure(1, figsize=(15,4))\n",
    "plt.subplot(131)\n",
    "sns.countplot(x='Vehicle_Damage', data=df_train)\n",
    "plt.subplot(132)\n",
    "sns.countplot(x='Vehicle_Age', data=df_train)"
   ]
  },
  {
   "cell_type": "code",
   "execution_count": 17,
   "metadata": {},
   "outputs": [
    {
     "data": {
      "text/plain": [
       "<matplotlib.axes._subplots.AxesSubplot at 0x1ac0fc34f60>"
      ]
     },
     "execution_count": 17,
     "metadata": {},
     "output_type": "execute_result"
    },
    {
     "data": {
      "image/png": "[encoded data removed]",
      "text/plain": [
       "<Figure size 1080x288 with 2 Axes>"
      ]
     },
     "metadata": {},
     "output_type": "display_data"
    }
   ],
   "source": [
    "plt.figure(1, figsize=(15,4))\n",
    "plt.subplot(131)\n",
    "sns.countplot(x='Vehicle_Damage', hue='Response', data=df_train)\n",
    "plt.subplot(132)\n",
    "sns.countplot(x='Vehicle_Age', hue='Response', data=df_train)"
   ]
  },
  {
   "cell_type": "code",
   "execution_count": 18,
   "metadata": {},
   "outputs": [],
   "source": [
    "# Drop Vintage column since it doe not have too much relevance to the target variable\n",
    "df_train_copy = df_train.copy()\n",
    "df_train_copy.drop(['Vintage'], axis=1, inplace=True) # 'id',\n",
    "df_train_copy.head()\n",
    "\n",
    "df_test.drop(['Vintage'], axis=1, inplace=True) # 'id',"
   ]
  },
  {
   "cell_type": "markdown",
   "metadata": {},
   "source": [
    "Balance Datasets"
   ]
  },
  {
   "cell_type": "code",
   "execution_count": 19,
   "metadata": {},
   "outputs": [
    {
     "data": {
      "text/plain": [
       "1    334399\n",
       "0    334399\n",
       "Name: Response, dtype: int64"
      ]
     },
     "execution_count": 19,
     "metadata": {},
     "output_type": "execute_result"
    }
   ],
   "source": [
    "from sklearn.utils import resample, shuffle\n",
    "\n",
    "df_majority = df_train_copy[df_train_copy['Response']==0]\n",
    "df_minority = df_train_copy[df_train_copy['Response']==1]\n",
    "df_minority_upsampled = resample(df_minority, replace=True, n_samples=334399, random_state = 1)\n",
    "balanced_df = pd.concat([df_minority_upsampled, df_majority])\n",
    "balanced_df = shuffle(balanced_df)\n",
    "balanced_df['Response'].value_counts()"
   ]
  },
  {
   "cell_type": "code",
   "execution_count": 20,
   "metadata": {},
   "outputs": [],
   "source": [
    "df_train = balanced_df.copy()"
   ]
  },
  {
   "cell_type": "code",
   "execution_count": 21,
   "metadata": {},
   "outputs": [
    {
     "data": {
      "text/html": [
       "<div>\n",
       "<style scoped>\n",
       "    .dataframe tbody tr th:only-of-type {\n",
       "        vertical-align: middle;\n",
       "    }\n",
       "\n",
       "    .dataframe tbody tr th {\n",
       "        vertical-align: top;\n",
       "    }\n",
       "\n",
       "    .dataframe thead th {\n",
       "        text-align: right;\n",
       "    }\n",
       "</style>\n",
       "<table border=\"1\" class=\"dataframe\">\n",
       "  <thead>\n",
       "    <tr style=\"text-align: right;\">\n",
       "      <th></th>\n",
       "      <th>id</th>\n",
       "      <th>Gender</th>\n",
       "      <th>Age</th>\n",
       "      <th>Driving_License</th>\n",
       "      <th>Region_Code</th>\n",
       "      <th>Previously_Insured</th>\n",
       "      <th>Vehicle_Age</th>\n",
       "      <th>Vehicle_Damage</th>\n",
       "      <th>Annual_Premium</th>\n",
       "      <th>Policy_Sales_Channel</th>\n",
       "      <th>Response</th>\n",
       "    </tr>\n",
       "  </thead>\n",
       "  <tbody>\n",
       "    <tr>\n",
       "      <th>38043</th>\n",
       "      <td>38044</td>\n",
       "      <td>1</td>\n",
       "      <td>20</td>\n",
       "      <td>1</td>\n",
       "      <td>8.0</td>\n",
       "      <td>0</td>\n",
       "      <td>0</td>\n",
       "      <td>1</td>\n",
       "      <td>95824.0</td>\n",
       "      <td>160.0</td>\n",
       "      <td>0</td>\n",
       "    </tr>\n",
       "    <tr>\n",
       "      <th>83732</th>\n",
       "      <td>83733</td>\n",
       "      <td>1</td>\n",
       "      <td>20</td>\n",
       "      <td>1</td>\n",
       "      <td>36.0</td>\n",
       "      <td>1</td>\n",
       "      <td>0</td>\n",
       "      <td>0</td>\n",
       "      <td>42293.0</td>\n",
       "      <td>160.0</td>\n",
       "      <td>0</td>\n",
       "    </tr>\n",
       "    <tr>\n",
       "      <th>80979</th>\n",
       "      <td>80980</td>\n",
       "      <td>1</td>\n",
       "      <td>23</td>\n",
       "      <td>1</td>\n",
       "      <td>28.0</td>\n",
       "      <td>0</td>\n",
       "      <td>0</td>\n",
       "      <td>1</td>\n",
       "      <td>37906.0</td>\n",
       "      <td>124.0</td>\n",
       "      <td>1</td>\n",
       "    </tr>\n",
       "    <tr>\n",
       "      <th>303380</th>\n",
       "      <td>303381</td>\n",
       "      <td>1</td>\n",
       "      <td>49</td>\n",
       "      <td>1</td>\n",
       "      <td>28.0</td>\n",
       "      <td>0</td>\n",
       "      <td>2</td>\n",
       "      <td>1</td>\n",
       "      <td>36451.0</td>\n",
       "      <td>163.0</td>\n",
       "      <td>1</td>\n",
       "    </tr>\n",
       "    <tr>\n",
       "      <th>228934</th>\n",
       "      <td>228935</td>\n",
       "      <td>0</td>\n",
       "      <td>39</td>\n",
       "      <td>1</td>\n",
       "      <td>41.0</td>\n",
       "      <td>0</td>\n",
       "      <td>1</td>\n",
       "      <td>1</td>\n",
       "      <td>35506.0</td>\n",
       "      <td>124.0</td>\n",
       "      <td>1</td>\n",
       "    </tr>\n",
       "  </tbody>\n",
       "</table>\n",
       "</div>"
      ],
      "text/plain": [
       "            id  Gender  Age  Driving_License  Region_Code  Previously_Insured  \\\n",
       "38043    38044       1   20                1          8.0                   0   \n",
       "83732    83733       1   20                1         36.0                   1   \n",
       "80979    80980       1   23                1         28.0                   0   \n",
       "303380  303381       1   49                1         28.0                   0   \n",
       "228934  228935       0   39                1         41.0                   0   \n",
       "\n",
       "        Vehicle_Age  Vehicle_Damage  Annual_Premium  Policy_Sales_Channel  \\\n",
       "38043             0               1         95824.0                 160.0   \n",
       "83732             0               0         42293.0                 160.0   \n",
       "80979             0               1         37906.0                 124.0   \n",
       "303380            2               1         36451.0                 163.0   \n",
       "228934            1               1         35506.0                 124.0   \n",
       "\n",
       "        Response  \n",
       "38043          0  \n",
       "83732          0  \n",
       "80979          1  \n",
       "303380         1  \n",
       "228934         1  "
      ]
     },
     "execution_count": 21,
     "metadata": {},
     "output_type": "execute_result"
    }
   ],
   "source": [
    "df_train.head()"
   ]
  },
  {
   "cell_type": "markdown",
   "metadata": {},
   "source": [
    "Feature Engineering"
   ]
  },
  {
   "cell_type": "code",
   "execution_count": 22,
   "metadata": {},
   "outputs": [],
   "source": [
    "df_train['premium_by_age'] = df_train['Annual_Premium']/df_train['Age']\n",
    "df_test['premium_by_age'] = df_test['Annual_Premium']/df_test['Age']\n",
    "\n",
    "#df_train['premium_by_vintage'] = df_train['Annual_Premium']/df_train['Vintage']\n",
    "#df_test['premium_by_vintage'] = df_test['Annual_Premium']/df_test['Vintage']"
   ]
  },
  {
   "cell_type": "code",
   "execution_count": 23,
   "metadata": {},
   "outputs": [],
   "source": [
    "# Annual Premium by Gender\n",
    "df_train[\"id_mean_premium\"] = df_train.groupby(['Gender'])['Annual_Premium'].transform('mean')\n",
    "gender_mean_dict = df_train.groupby(['Gender'])['Annual_Premium'].mean().to_dict()\n",
    "df_test['id_mean_premium'] = df_test['Gender'].apply(lambda x:gender_mean_dict.get(x,0))\n",
    "\n",
    "# Response by Gender\n",
    "df_train[\"response_by_gender\"] = df_train.groupby(['Gender'])['Response'].transform('mean')\n",
    "response_by_gender_dict = df_train.groupby(['Gender'])['Response'].mean().to_dict()\n",
    "df_test['response_by_gender'] = df_test['Gender'].apply(lambda x:response_by_gender_dict.get(x,0))\n",
    "\n",
    "# Response by Age\n",
    "df_train[\"response_by_age\"] = df_train.groupby(['Age'])['Response'].transform('mean')\n",
    "response_by_age_dict = df_train.groupby(['Age'])['Response'].mean().to_dict()\n",
    "df_test['response_by_age'] = df_test['Age'].apply(lambda x:response_by_age_dict.get(x,0))\n",
    "\n",
    "# Response by Policy Channel\n",
    "df_train[\"response_by_channel\"] = df_train.groupby(['Policy_Sales_Channel'])['Response'].transform('mean')\n",
    "response_by_channel_dict = df_train.groupby(['Policy_Sales_Channel'])['Response'].mean().to_dict()\n",
    "df_test['response_by_channel'] = df_test['Policy_Sales_Channel'].apply(lambda x:response_by_channel_dict.get(x,0))\n",
    "\n",
    "# Response by Previously Insured\n",
    "df_train[\"response_by_prev_insured\"] = df_train.groupby(['Previously_Insured'])['Response'].transform('mean')\n",
    "response_by_prev_insured_dict = df_train.groupby(['Previously_Insured'])['Response'].mean().to_dict()\n",
    "df_test['response_by_prev_insured'] = df_test['Previously_Insured'].apply(lambda x:response_by_prev_insured_dict.get(x,0))\n",
    "\n",
    "# Response by Region Code\n",
    "df_train[\"response_by_region\"] = df_train.groupby(['Region_Code'])['Response'].transform('mean')\n",
    "response_by_region_dict = df_train.groupby(['Region_Code'])['Response'].mean().to_dict()\n",
    "df_test['response_by_region'] = df_test['Region_Code'].apply(lambda x:response_by_region_dict.get(x,0))\n",
    "\n",
    "# Response by Vehicle Age\n",
    "df_train[\"response_by_veh_age\"] = df_train.groupby(['Vehicle_Age'])['Response'].transform('mean')\n",
    "response_by_veh_age_dict = df_train.groupby(['Vehicle_Age'])['Response'].mean().to_dict()\n",
    "df_test['response_by_veh_age'] = df_test['Vehicle_Age'].apply(lambda x:response_by_veh_age_dict.get(x,0))\n",
    "\n",
    "# Response by Vehicle Damage\n",
    "df_train[\"response_by_veh_damage\"] = df_train.groupby(['Vehicle_Damage'])['Response'].transform('mean')\n",
    "response_by_veh_damage_dict = df_train.groupby(['Vehicle_Damage'])['Response'].mean().to_dict()\n",
    "df_test['response_by_veh_damage'] = df_test['Vehicle_Damage'].apply(lambda x:response_by_veh_damage_dict.get(x,0))"
   ]
  },
  {
   "cell_type": "code",
   "execution_count": 24,
   "metadata": {},
   "outputs": [
    {
     "data": {
      "text/html": [
       "<div>\n",
       "<style scoped>\n",
       "    .dataframe tbody tr th:only-of-type {\n",
       "        vertical-align: middle;\n",
       "    }\n",
       "\n",
       "    .dataframe tbody tr th {\n",
       "        vertical-align: top;\n",
       "    }\n",
       "\n",
       "    .dataframe thead th {\n",
       "        text-align: right;\n",
       "    }\n",
       "</style>\n",
       "<table border=\"1\" class=\"dataframe\">\n",
       "  <thead>\n",
       "    <tr style=\"text-align: right;\">\n",
       "      <th></th>\n",
       "      <th>id</th>\n",
       "      <th>Gender</th>\n",
       "      <th>Age</th>\n",
       "      <th>Driving_License</th>\n",
       "      <th>Region_Code</th>\n",
       "      <th>Previously_Insured</th>\n",
       "      <th>Vehicle_Age</th>\n",
       "      <th>Vehicle_Damage</th>\n",
       "      <th>Annual_Premium</th>\n",
       "      <th>Policy_Sales_Channel</th>\n",
       "      <th>Response</th>\n",
       "      <th>premium_by_age</th>\n",
       "      <th>id_mean_premium</th>\n",
       "      <th>response_by_gender</th>\n",
       "      <th>response_by_age</th>\n",
       "      <th>response_by_channel</th>\n",
       "      <th>response_by_prev_insured</th>\n",
       "      <th>response_by_region</th>\n",
       "      <th>response_by_veh_age</th>\n",
       "      <th>response_by_veh_damage</th>\n",
       "    </tr>\n",
       "  </thead>\n",
       "  <tbody>\n",
       "    <tr>\n",
       "      <th>38043</th>\n",
       "      <td>38044</td>\n",
       "      <td>1</td>\n",
       "      <td>20</td>\n",
       "      <td>1</td>\n",
       "      <td>8.0</td>\n",
       "      <td>0</td>\n",
       "      <td>0</td>\n",
       "      <td>1</td>\n",
       "      <td>95824.0</td>\n",
       "      <td>160.0</td>\n",
       "      <td>0</td>\n",
       "      <td>4791.200000</td>\n",
       "      <td>30875.731197</td>\n",
       "      <td>0.454121</td>\n",
       "      <td>0.164231</td>\n",
       "      <td>0.133737</td>\n",
       "      <td>0.675729</td>\n",
       "      <td>0.431879</td>\n",
       "      <td>0.246266</td>\n",
       "      <td>0.690588</td>\n",
       "    </tr>\n",
       "    <tr>\n",
       "      <th>83732</th>\n",
       "      <td>83733</td>\n",
       "      <td>1</td>\n",
       "      <td>20</td>\n",
       "      <td>1</td>\n",
       "      <td>36.0</td>\n",
       "      <td>1</td>\n",
       "      <td>0</td>\n",
       "      <td>0</td>\n",
       "      <td>42293.0</td>\n",
       "      <td>160.0</td>\n",
       "      <td>0</td>\n",
       "      <td>2114.650000</td>\n",
       "      <td>30875.731197</td>\n",
       "      <td>0.454121</td>\n",
       "      <td>0.164231</td>\n",
       "      <td>0.133737</td>\n",
       "      <td>0.006452</td>\n",
       "      <td>0.374739</td>\n",
       "      <td>0.246266</td>\n",
       "      <td>0.035985</td>\n",
       "    </tr>\n",
       "    <tr>\n",
       "      <th>80979</th>\n",
       "      <td>80980</td>\n",
       "      <td>1</td>\n",
       "      <td>23</td>\n",
       "      <td>1</td>\n",
       "      <td>28.0</td>\n",
       "      <td>0</td>\n",
       "      <td>0</td>\n",
       "      <td>1</td>\n",
       "      <td>37906.0</td>\n",
       "      <td>124.0</td>\n",
       "      <td>1</td>\n",
       "      <td>1648.086957</td>\n",
       "      <td>30875.731197</td>\n",
       "      <td>0.454121</td>\n",
       "      <td>0.216657</td>\n",
       "      <td>0.625175</td>\n",
       "      <td>0.675729</td>\n",
       "      <td>0.622398</td>\n",
       "      <td>0.246266</td>\n",
       "      <td>0.690588</td>\n",
       "    </tr>\n",
       "    <tr>\n",
       "      <th>303380</th>\n",
       "      <td>303381</td>\n",
       "      <td>1</td>\n",
       "      <td>49</td>\n",
       "      <td>1</td>\n",
       "      <td>28.0</td>\n",
       "      <td>0</td>\n",
       "      <td>2</td>\n",
       "      <td>1</td>\n",
       "      <td>36451.0</td>\n",
       "      <td>163.0</td>\n",
       "      <td>1</td>\n",
       "      <td>743.897959</td>\n",
       "      <td>30875.731197</td>\n",
       "      <td>0.454121</td>\n",
       "      <td>0.635772</td>\n",
       "      <td>0.754990</td>\n",
       "      <td>0.675729</td>\n",
       "      <td>0.622398</td>\n",
       "      <td>0.749129</td>\n",
       "      <td>0.690588</td>\n",
       "    </tr>\n",
       "    <tr>\n",
       "      <th>228934</th>\n",
       "      <td>228935</td>\n",
       "      <td>0</td>\n",
       "      <td>39</td>\n",
       "      <td>1</td>\n",
       "      <td>41.0</td>\n",
       "      <td>0</td>\n",
       "      <td>1</td>\n",
       "      <td>1</td>\n",
       "      <td>35506.0</td>\n",
       "      <td>124.0</td>\n",
       "      <td>1</td>\n",
       "      <td>910.410256</td>\n",
       "      <td>31130.973816</td>\n",
       "      <td>0.534553</td>\n",
       "      <td>0.657921</td>\n",
       "      <td>0.625175</td>\n",
       "      <td>0.675729</td>\n",
       "      <td>0.496989</td>\n",
       "      <td>0.600858</td>\n",
       "      <td>0.690588</td>\n",
       "    </tr>\n",
       "  </tbody>\n",
       "</table>\n",
       "</div>"
      ],
      "text/plain": [
       "            id  Gender  Age  Driving_License  Region_Code  Previously_Insured  \\\n",
       "38043    38044       1   20                1          8.0                   0   \n",
       "83732    83733       1   20                1         36.0                   1   \n",
       "80979    80980       1   23                1         28.0                   0   \n",
       "303380  303381       1   49                1         28.0                   0   \n",
       "228934  228935       0   39                1         41.0                   0   \n",
       "\n",
       "        Vehicle_Age  Vehicle_Damage  Annual_Premium  Policy_Sales_Channel  \\\n",
       "38043             0               1         95824.0                 160.0   \n",
       "83732             0               0         42293.0                 160.0   \n",
       "80979             0               1         37906.0                 124.0   \n",
       "303380            2               1         36451.0                 163.0   \n",
       "228934            1               1         35506.0                 124.0   \n",
       "\n",
       "        Response  premium_by_age  id_mean_premium  response_by_gender  \\\n",
       "38043          0     4791.200000     30875.731197            0.454121   \n",
       "83732          0     2114.650000     30875.731197            0.454121   \n",
       "80979          1     1648.086957     30875.731197            0.454121   \n",
       "303380         1      743.897959     30875.731197            0.454121   \n",
       "228934         1      910.410256     31130.973816            0.534553   \n",
       "\n",
       "        response_by_age  response_by_channel  response_by_prev_insured  \\\n",
       "38043          0.164231             0.133737                  0.675729   \n",
       "83732          0.164231             0.133737                  0.006452   \n",
       "80979          0.216657             0.625175                  0.675729   \n",
       "303380         0.635772             0.754990                  0.675729   \n",
       "228934         0.657921             0.625175                  0.675729   \n",
       "\n",
       "        response_by_region  response_by_veh_age  response_by_veh_damage  \n",
       "38043             0.431879             0.246266                0.690588  \n",
       "83732             0.374739             0.246266                0.035985  \n",
       "80979             0.622398             0.246266                0.690588  \n",
       "303380            0.622398             0.749129                0.690588  \n",
       "228934            0.496989             0.600858                0.690588  "
      ]
     },
     "execution_count": 24,
     "metadata": {},
     "output_type": "execute_result"
    }
   ],
   "source": [
    "df_train.head()"
   ]
  },
  {
   "cell_type": "markdown",
   "metadata": {},
   "source": [
    "One Hot Encode all categorical variables"
   ]
  },
  {
   "cell_type": "code",
   "execution_count": 25,
   "metadata": {},
   "outputs": [
    {
     "name": "stdout",
     "output_type": "stream",
     "text": [
      "(668798, 26)\n",
      "(127037, 25)\n"
     ]
    },
    {
     "data": {
      "text/html": [
       "<div>\n",
       "<style scoped>\n",
       "    .dataframe tbody tr th:only-of-type {\n",
       "        vertical-align: middle;\n",
       "    }\n",
       "\n",
       "    .dataframe tbody tr th {\n",
       "        vertical-align: top;\n",
       "    }\n",
       "\n",
       "    .dataframe thead th {\n",
       "        text-align: right;\n",
       "    }\n",
       "</style>\n",
       "<table border=\"1\" class=\"dataframe\">\n",
       "  <thead>\n",
       "    <tr style=\"text-align: right;\">\n",
       "      <th></th>\n",
       "      <th>id</th>\n",
       "      <th>Age</th>\n",
       "      <th>Region_Code</th>\n",
       "      <th>Annual_Premium</th>\n",
       "      <th>Policy_Sales_Channel</th>\n",
       "      <th>Response</th>\n",
       "      <th>premium_by_age</th>\n",
       "      <th>id_mean_premium</th>\n",
       "      <th>response_by_gender</th>\n",
       "      <th>response_by_age</th>\n",
       "      <th>...</th>\n",
       "      <th>Gender_1</th>\n",
       "      <th>Vehicle_Age_0</th>\n",
       "      <th>Vehicle_Age_1</th>\n",
       "      <th>Vehicle_Age_2</th>\n",
       "      <th>Vehicle_Damage_0</th>\n",
       "      <th>Vehicle_Damage_1</th>\n",
       "      <th>Driving_License_0</th>\n",
       "      <th>Driving_License_1</th>\n",
       "      <th>Previously_Insured_0</th>\n",
       "      <th>Previously_Insured_1</th>\n",
       "    </tr>\n",
       "  </thead>\n",
       "  <tbody>\n",
       "    <tr>\n",
       "      <th>38043</th>\n",
       "      <td>38044</td>\n",
       "      <td>20</td>\n",
       "      <td>8.0</td>\n",
       "      <td>95824.0</td>\n",
       "      <td>160.0</td>\n",
       "      <td>0</td>\n",
       "      <td>4791.200000</td>\n",
       "      <td>30875.731197</td>\n",
       "      <td>0.454121</td>\n",
       "      <td>0.164231</td>\n",
       "      <td>...</td>\n",
       "      <td>1</td>\n",
       "      <td>1</td>\n",
       "      <td>0</td>\n",
       "      <td>0</td>\n",
       "      <td>0</td>\n",
       "      <td>1</td>\n",
       "      <td>0</td>\n",
       "      <td>1</td>\n",
       "      <td>1</td>\n",
       "      <td>0</td>\n",
       "    </tr>\n",
       "    <tr>\n",
       "      <th>83732</th>\n",
       "      <td>83733</td>\n",
       "      <td>20</td>\n",
       "      <td>36.0</td>\n",
       "      <td>42293.0</td>\n",
       "      <td>160.0</td>\n",
       "      <td>0</td>\n",
       "      <td>2114.650000</td>\n",
       "      <td>30875.731197</td>\n",
       "      <td>0.454121</td>\n",
       "      <td>0.164231</td>\n",
       "      <td>...</td>\n",
       "      <td>1</td>\n",
       "      <td>1</td>\n",
       "      <td>0</td>\n",
       "      <td>0</td>\n",
       "      <td>1</td>\n",
       "      <td>0</td>\n",
       "      <td>0</td>\n",
       "      <td>1</td>\n",
       "      <td>0</td>\n",
       "      <td>1</td>\n",
       "    </tr>\n",
       "    <tr>\n",
       "      <th>80979</th>\n",
       "      <td>80980</td>\n",
       "      <td>23</td>\n",
       "      <td>28.0</td>\n",
       "      <td>37906.0</td>\n",
       "      <td>124.0</td>\n",
       "      <td>1</td>\n",
       "      <td>1648.086957</td>\n",
       "      <td>30875.731197</td>\n",
       "      <td>0.454121</td>\n",
       "      <td>0.216657</td>\n",
       "      <td>...</td>\n",
       "      <td>1</td>\n",
       "      <td>1</td>\n",
       "      <td>0</td>\n",
       "      <td>0</td>\n",
       "      <td>0</td>\n",
       "      <td>1</td>\n",
       "      <td>0</td>\n",
       "      <td>1</td>\n",
       "      <td>1</td>\n",
       "      <td>0</td>\n",
       "    </tr>\n",
       "    <tr>\n",
       "      <th>303380</th>\n",
       "      <td>303381</td>\n",
       "      <td>49</td>\n",
       "      <td>28.0</td>\n",
       "      <td>36451.0</td>\n",
       "      <td>163.0</td>\n",
       "      <td>1</td>\n",
       "      <td>743.897959</td>\n",
       "      <td>30875.731197</td>\n",
       "      <td>0.454121</td>\n",
       "      <td>0.635772</td>\n",
       "      <td>...</td>\n",
       "      <td>1</td>\n",
       "      <td>0</td>\n",
       "      <td>0</td>\n",
       "      <td>1</td>\n",
       "      <td>0</td>\n",
       "      <td>1</td>\n",
       "      <td>0</td>\n",
       "      <td>1</td>\n",
       "      <td>1</td>\n",
       "      <td>0</td>\n",
       "    </tr>\n",
       "    <tr>\n",
       "      <th>228934</th>\n",
       "      <td>228935</td>\n",
       "      <td>39</td>\n",
       "      <td>41.0</td>\n",
       "      <td>35506.0</td>\n",
       "      <td>124.0</td>\n",
       "      <td>1</td>\n",
       "      <td>910.410256</td>\n",
       "      <td>31130.973816</td>\n",
       "      <td>0.534553</td>\n",
       "      <td>0.657921</td>\n",
       "      <td>...</td>\n",
       "      <td>0</td>\n",
       "      <td>0</td>\n",
       "      <td>1</td>\n",
       "      <td>0</td>\n",
       "      <td>0</td>\n",
       "      <td>1</td>\n",
       "      <td>0</td>\n",
       "      <td>1</td>\n",
       "      <td>1</td>\n",
       "      <td>0</td>\n",
       "    </tr>\n",
       "  </tbody>\n",
       "</table>\n",
       "<p>5 rows × 26 columns</p>\n",
       "</div>"
      ],
      "text/plain": [
       "            id  Age  Region_Code  Annual_Premium  Policy_Sales_Channel  \\\n",
       "38043    38044   20          8.0         95824.0                 160.0   \n",
       "83732    83733   20         36.0         42293.0                 160.0   \n",
       "80979    80980   23         28.0         37906.0                 124.0   \n",
       "303380  303381   49         28.0         36451.0                 163.0   \n",
       "228934  228935   39         41.0         35506.0                 124.0   \n",
       "\n",
       "        Response  premium_by_age  id_mean_premium  response_by_gender  \\\n",
       "38043          0     4791.200000     30875.731197            0.454121   \n",
       "83732          0     2114.650000     30875.731197            0.454121   \n",
       "80979          1     1648.086957     30875.731197            0.454121   \n",
       "303380         1      743.897959     30875.731197            0.454121   \n",
       "228934         1      910.410256     31130.973816            0.534553   \n",
       "\n",
       "        response_by_age          ...           Gender_1  Vehicle_Age_0  \\\n",
       "38043          0.164231          ...                  1              1   \n",
       "83732          0.164231          ...                  1              1   \n",
       "80979          0.216657          ...                  1              1   \n",
       "303380         0.635772          ...                  1              0   \n",
       "228934         0.657921          ...                  0              0   \n",
       "\n",
       "        Vehicle_Age_1  Vehicle_Age_2  Vehicle_Damage_0  Vehicle_Damage_1  \\\n",
       "38043               0              0                 0                 1   \n",
       "83732               0              0                 1                 0   \n",
       "80979               0              0                 0                 1   \n",
       "303380              0              1                 0                 1   \n",
       "228934              1              0                 0                 1   \n",
       "\n",
       "        Driving_License_0  Driving_License_1  Previously_Insured_0  \\\n",
       "38043                   0                  1                     1   \n",
       "83732                   0                  1                     0   \n",
       "80979                   0                  1                     1   \n",
       "303380                  0                  1                     1   \n",
       "228934                  0                  1                     1   \n",
       "\n",
       "        Previously_Insured_1  \n",
       "38043                      0  \n",
       "83732                      1  \n",
       "80979                      0  \n",
       "303380                     0  \n",
       "228934                     0  \n",
       "\n",
       "[5 rows x 26 columns]"
      ]
     },
     "execution_count": 25,
     "metadata": {},
     "output_type": "execute_result"
    }
   ],
   "source": [
    "# One hot encoding of all the categorical vars\n",
    "df_train = pd.get_dummies(data=df_train, columns=['Gender','Vehicle_Age','Vehicle_Damage','Driving_License','Previously_Insured'])\n",
    "df_test = pd.get_dummies(data=df_test, columns=['Gender','Vehicle_Age','Vehicle_Damage','Driving_License','Previously_Insured'])\n",
    "\n",
    "print(df_train.shape)\n",
    "print(df_test.shape)\n",
    "df_train.head()"
   ]
  },
  {
   "cell_type": "markdown",
   "metadata": {},
   "source": [
    "Split data into training and validation sets"
   ]
  },
  {
   "cell_type": "code",
   "execution_count": 26,
   "metadata": {},
   "outputs": [
    {
     "name": "stdout",
     "output_type": "stream",
     "text": [
      "X_train: (501598, 25)\n",
      "X_val: (167200, 25)\n",
      "y_train: (501598,)\n",
      "y_val: (167200,)\n"
     ]
    }
   ],
   "source": [
    "from sklearn.model_selection import train_test_split\n",
    "\n",
    "X = df_train.drop(columns='Response', axis=1)\n",
    "y = df_train['Response']\n",
    "\n",
    "X_train, X_val, y_train, y_val = train_test_split(X, y, test_size=0.25, random_state=1)\n",
    "print('X_train:', X_train.shape)\n",
    "print('X_val:', X_val.shape)\n",
    "print('y_train:', y_train.shape)\n",
    "print('y_val:', y_val.shape)\n",
    "\n",
    "X_test = df_test"
   ]
  },
  {
   "cell_type": "markdown",
   "metadata": {},
   "source": [
    "Scale all the training columns"
   ]
  },
  {
   "cell_type": "code",
   "execution_count": 27,
   "metadata": {},
   "outputs": [],
   "source": [
    "from sklearn.preprocessing import MinMaxScaler, StandardScaler\n",
    "\n",
    "#std_scaler = StandardScaler()\n",
    "#X_train = std_scaler.fit_transform(X_train)\n",
    "#X_val = std_scaler.transform(X_val)\n",
    "#X_test = std_scaler.transform(X_test)\n",
    "\n",
    "scaler = MinMaxScaler()\n",
    "X_train = scaler.fit_transform(X_train)\n",
    "X_val = scaler.transform(X_val)\n",
    "X_test = scaler.transform(X_test)"
   ]
  },
  {
   "cell_type": "markdown",
   "metadata": {},
   "source": [
    "Model Creation and Evaluation"
   ]
  },
  {
   "cell_type": "code",
   "execution_count": 28,
   "metadata": {},
   "outputs": [],
   "source": [
    "from sklearn.metrics import f1_score, roc_auc_score, accuracy_score, recall_score"
   ]
  },
  {
   "cell_type": "code",
   "execution_count": 29,
   "metadata": {},
   "outputs": [
    {
     "name": "stdout",
     "output_type": "stream",
     "text": [
      "LR-Training Score: 0.7968672123892041\n",
      "LR-Validation Score: 0.7954964114832536\n",
      "LR ROC-AUC score: 80.0\n"
     ]
    }
   ],
   "source": [
    "# Logistic Regression\n",
    "from sklearn.linear_model import LogisticRegression\n",
    "\n",
    "# Create the Logistic Regression model object\n",
    "logreg_model = LogisticRegression(random_state=1)\n",
    "logreg_model.fit(X_train, y_train)\n",
    "\n",
    "lr_pred = logreg_model.predict(X_val)\n",
    "\n",
    "print('LR-Training Score:', logreg_model.score(X_train, y_train))\n",
    "print('LR-Validation Score:', logreg_model.score(X_val, y_val))\n",
    "print('LR ROC-AUC score:', 100*roc_auc_score(y_val, lr_pred).round(2))"
   ]
  },
  {
   "cell_type": "code",
   "execution_count": 30,
   "metadata": {},
   "outputs": [
    {
     "name": "stdout",
     "output_type": "stream",
     "text": [
      "DTC-Training Score: 1.0\n",
      "DTC-Validation Score: 0.9393720095693779\n",
      "DTC ROC-AUC score: 80.0\n"
     ]
    }
   ],
   "source": [
    "# Decision Tree Classifier\n",
    "from sklearn.tree import DecisionTreeClassifier\n",
    "\n",
    "dtc = DecisionTreeClassifier(random_state=1)\n",
    "dtc = dtc.fit(X_train, y_train)\n",
    "\n",
    "dtc_pred = logreg_model.predict(X_val)\n",
    "\n",
    "print('DTC-Training Score:', dtc.score(X_train, y_train))\n",
    "print('DTC-Validation Score:', dtc.score(X_val, y_val))\n",
    "print('DTC ROC-AUC score:', 100*roc_auc_score(y_val, dtc_pred).round(2))"
   ]
  },
  {
   "cell_type": "code",
   "execution_count": 32,
   "metadata": {},
   "outputs": [
    {
     "name": "stdout",
     "output_type": "stream",
     "text": [
      "RFC-Training Score: 1.0\n",
      "RFC-Validation Score: 0.9445454545454546\n",
      "RFC ROC-AUC score: 94.0\n"
     ]
    }
   ],
   "source": [
    "# Random Forest Classifier\n",
    "from sklearn.ensemble import RandomForestClassifier\n",
    "\n",
    "rfc = RandomForestClassifier(random_state=1)\n",
    "rfc = rfc.fit(X_train, y_train)\n",
    "\n",
    "rfc_pred = rfc.predict(X_val)\n",
    "\n",
    "print('RFC-Training Score:', rfc.score(X_train, y_train))\n",
    "print('RFC-Validation Score:', rfc.score(X_val, y_val))\n",
    "print('RFC ROC-AUC score:', 100*roc_auc_score(y_val, rfc_pred).round(2))\n",
    "\n",
    "#y_pred = rfr.predict(X_test)"
   ]
  },
  {
   "cell_type": "code",
   "execution_count": 34,
   "metadata": {},
   "outputs": [
    {
     "name": "stdout",
     "output_type": "stream",
     "text": [
      "RFC-Training Score: 1.0\n",
      "RFC-Validation Score: 0.9451255980861244\n",
      "RFC100 ROC-AUC score: 94.0\n"
     ]
    }
   ],
   "source": [
    "from sklearn.ensemble import RandomForestClassifier\n",
    "rfc100 = RandomForestClassifier(n_estimators=100)\n",
    "rfc100.fit(X_train, y_train)\n",
    "\n",
    "rfc100_pred = rfc100.predict(X_val)\n",
    "\n",
    "print('RFC-Training Score:', rfc100.score(X_train, y_train))\n",
    "print('RFC-Validation Score:', rfc100.score(X_val, y_val))\n",
    "print('RFC100 ROC-AUC score:', 100*roc_auc_score(y_val, rfc100_pred).round(2))"
   ]
  },
  {
   "cell_type": "code",
   "execution_count": 40,
   "metadata": {},
   "outputs": [
    {
     "name": "stdout",
     "output_type": "stream",
     "text": [
      "ABC-Training Score: 0.7948496604850896\n",
      "ABC-Validation Score: 0.794037081339713\n",
      "ABC ROC-AUC score: 79.0\n"
     ]
    }
   ],
   "source": [
    "## FINAL MODEL SELECTED FOR SUBMISSION\n",
    "\n",
    "# Lets try to boost the performance of Logistic Regression classifiers AdaBoost Classification Ensemble model\n",
    "from sklearn.ensemble import AdaBoostClassifier\n",
    "\n",
    "abc = AdaBoostClassifier(n_estimators=100, base_estimator=logreg_model, learning_rate=0.2, random_state=1)\n",
    "abc = abc.fit(X_train, y_train)\n",
    "\n",
    "abc_pred = abc.predict(X_val)\n",
    "\n",
    "print('ABC-Training Score:', abc.score(X_train, y_train))\n",
    "print('ABC-Validation Score:', abc.score(X_val, y_val))\n",
    "print('ABC ROC-AUC score:', 100*roc_auc_score(y_val, abc_pred).round(2))"
   ]
  },
  {
   "cell_type": "markdown",
   "metadata": {},
   "source": [
    "Create Submission File"
   ]
  },
  {
   "cell_type": "code",
   "execution_count": 41,
   "metadata": {},
   "outputs": [
    {
     "data": {
      "text/plain": [
       "0    73166\n",
       "1    53871\n",
       "Name: Response, dtype: int64"
      ]
     },
     "execution_count": 41,
     "metadata": {},
     "output_type": "execute_result"
    }
   ],
   "source": [
    "# Predict for test data and add to submission file\n",
    "y_pred = abc.predict(X_test)\n",
    "\n",
    "# Create submission df with test IDs\n",
    "df_submission = pd.DataFrame()\n",
    "df_submission['id'] = df_test['id']\n",
    "df_submission['Response'] = y_pred\n",
    "\n",
    "# Write to submission file\n",
    "df_submission.to_csv(r'C:\\Users\\Shilpa\\Desktop\\cross_sell_submission.csv', index=False, header=True)\n",
    "\n",
    "df_submission['Response'].value_counts()"
   ]
  },
  {
   "cell_type": "markdown",
   "metadata": {},
   "source": [
    "Conclusion: \n",
    "Achieved AUC-ROC score of 79.99 on the leaderboard using AdaBoost Ensemble with base model of Logistic Regression. Though the accuracy score on validation data is very High for Decision Tree and Random Forest, Logistic Regression did much beeter on test data than either of these"
   ]
  }
 ],
 "metadata": {
  "kernelspec": {
   "display_name": "Python 3",
   "language": "python",
   "name": "python3"
  },
  "language_info": {
   "codemirror_mode": {
    "name": "ipython",
    "version": 3
   },
   "file_extension": ".py",
   "mimetype": "text/x-python",
   "name": "python",
   "nbconvert_exporter": "python",
   "pygments_lexer": "ipython3",
   "version": "3.6.5"
  }
 },
 "nbformat": 4,
 "nbformat_minor": 2
}
